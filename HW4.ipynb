{
 "cells": [
  {
   "cell_type": "code",
   "execution_count": 1,
   "metadata": {
    "pycharm": {
     "name": "#%%\n"
    }
   },
   "outputs": [],
   "source": [
    "import numpy as np"
   ]
  },
  {
   "cell_type": "markdown",
   "metadata": {
    "collapsed": true,
    "pycharm": {
     "name": "#%% md\n"
    }
   },
   "source": [
    "$$\\left (X_{(n)}, \\quad \\frac{X_{(n)}}{\\varepsilon^{1/n}}\\right)$$"
   ]
  },
  {
   "cell_type": "code",
   "execution_count": 17,
   "metadata": {
    "pycharm": {
     "name": "#%%\n"
    }
   },
   "outputs": [],
   "source": [
    "popular_confidence = [0.95, 0.99]\n",
    "confidence = 0.95"
   ]
  },
  {
   "cell_type": "code",
   "execution_count": 100,
   "metadata": {
    "pycharm": {
     "name": "#%%\n"
    }
   },
   "outputs": [],
   "source": [
    "def interval(n_samples, n_intervals, true_theta=1.0, confidence=0.95, interval_length=False):\n",
    "    '''\n",
    "    Считаем доверительный интервал для разных параметров:\n",
    "        n = размер выборки\n",
    "        true_theta: X ~ U[0, true_theta]\n",
    "        confidence:  уровень значимости \n",
    "        n_intervals: количество интервалов \n",
    "        interval_length:  bool if True возвращает интервал \n",
    "\n",
    "    Возвращаем:\n",
    "        вероятность, что доверительный интервал накрывает параметр true_theta\n",
    "    '''\n",
    "    one_minus = 1 - confidence\n",
    "    propability_count = 0\n",
    "    for i in range(n_intervals):\n",
    "        X = np.random.uniform(low=0.0, high=true_theta, size=n_samples) # n - размер выборки\n",
    "        low, high = np.max(X), np.max(X)/(one_minus)**(1/n_samples)\n",
    "        interval = [low, high]\n",
    "        if low <= true_theta <= high: propability_count += 1\n",
    "    if interval_length: return high - low\n",
    "    return propability_count / n_intervals"
   ]
  },
  {
   "cell_type": "code",
   "execution_count": 42,
   "metadata": {},
   "outputs": [
    {
     "name": "stdout",
     "output_type": "stream",
     "text": [
      "Params: true_theta 1.0  Probability vs confidence level : 0.95 | 0.95\n",
      "Params: true_theta 1.0  Probability vs confidence level : 0.99 | 0.99\n",
      "-------------------------------------------------------\n",
      "Params: true_theta 2.0  Probability vs confidence level : 0.95 | 0.95\n",
      "Params: true_theta 2.0  Probability vs confidence level : 0.99 | 0.99\n",
      "-------------------------------------------------------\n",
      "Params: true_theta 5.0  Probability vs confidence level : 0.95 | 0.95\n",
      "Params: true_theta 5.0  Probability vs confidence level : 0.99 | 0.99\n",
      "-------------------------------------------------------\n"
     ]
    }
   ],
   "source": [
    "for true_theta in [1.0, 2.0, 5.0]:\n",
    "    for confidence_level in [0.95, 0.99]:\n",
    "        probability = interval(n_samples=10000, n_intervals=100000, \n",
    "                               true_theta=true_theta, confidence=confidence_level)\n",
    "        print(f\"Params: true_theta {true_theta}  Probability vs confidence level : {probability:.{2}} | {confidence_level}\")\n",
    "    print('-------------------------------------------------------')"
   ]
  },
  {
   "cell_type": "markdown",
   "metadata": {},
   "source": [
    "Чтобы продемонстрировать, что данный интервал является доверительныы с указанной вероятностью, я построила доверительные интервалы для разных уровней значимости $(0.95, 0.99)$ и разных истинных параметров $\\theta$ распределения $U[0, \\theta]$. Как мы видим, вероятность, что интервал покрывает истинный параметр действительно равна указанной."
   ]
  },
  {
   "cell_type": "code",
   "execution_count": 114,
   "metadata": {},
   "outputs": [
    {
     "data": {
      "image/png": "[encoded data removed]",
      "text/plain": [
       "<Figure size 432x288 with 1 Axes>"
      ]
     },
     "metadata": {
      "needs_background": "light"
     },
     "output_type": "display_data"
    }
   ],
   "source": [
    "import matplotlib.pyplot as plt\n",
    "samples_size = np.arange(1, 20)\n",
    "intervals = []\n",
    "for n in samples_size:\n",
    "    interval_length = interval(n_samples=n, n_intervals=1, \n",
    "                         true_theta=2.0, confidence=0.95,\n",
    "                         interval_length=True)\n",
    "    intervals.append(interval_length)\n",
    "\n",
    "\n",
    "\n",
    "intervals = np.array(intervals)\n",
    "plt.plot(samples_size, intervals)\n",
    "# ax.set_title('fill between y1 and y2')\n",
    "plt.ylabel('Длина доверительного интервала')\n",
    "plt.xlabel('n')\n",
    "plt.show()"
   ]
  },
  {
   "cell_type": "markdown",
   "metadata": {},
   "source": [
    "Как и ожидалось, длина доверительного интервала убывает с ростом n, можно так же показать, \n",
    "что она убывает, если мы уменьшаем уровень значимости,(или вероятнось что интервал накроет истинный параметр), но для этого нет разумных графиков.\n"
   ]
  },
  {
   "cell_type": "code",
   "execution_count": null,
   "metadata": {},
   "outputs": [],
   "source": []
  }
 ],
 "metadata": {
  "kernelspec": {
   "display_name": "Python 3 (ipykernel)",
   "language": "python",
   "name": "python3"
  },
  "language_info": {
   "codemirror_mode": {
    "name": "ipython",
    "version": 3
   },
   "file_extension": ".py",
   "mimetype": "text/x-python",
   "name": "python",
   "nbconvert_exporter": "python",
   "pygments_lexer": "ipython3",
   "version": "3.8.3"
  }
 },
 "nbformat": 4,
 "nbformat_minor": 1
}
